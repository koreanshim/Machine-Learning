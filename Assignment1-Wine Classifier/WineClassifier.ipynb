{
 "cells": [
  {
   "cell_type": "markdown",
   "metadata": {
    "colab_type": "text",
    "id": "AH7bAAGcobV3"
   },
   "source": [
    "# 와인 감별사 : 와인의 Quality를 분류하는 Classifier 만들기\n",
    "\n",
    "## 1. 과제 설명\n",
    "이번 과제에서는 케라스(Keras)를 활용하여, 와인의 품질을 분류하는 인공신경망 분류기를 만들어 볼 것입니다.\n",
    "케라스는 Tensorflow, Theano 등의 딥 러닝 라이브러리 위에서 동작하는 오픈 소스 라이브러리로, 보다 쉬운 API를 제공함으로써 모델 설계 및 학습, 테스트가 간단하다는 장점이 있습니다. \n",
    "\n",
    "### 1.1 케라스 설치를 위한 필수 라이브러리\n",
    "케라스를 설치하기 전에 먼저 필수적으로 설치해야 할 것들이 있습니다.\n",
    "* Anaconda : Python 3.x 버전, Numpy, Pandas, SciPy, sklearn 등 필수 라이브러리들이 포함된 통합 배포 팩\n",
    "<br> 아나콘다 설치 : https://www.anaconda.com/distribution/#download-section\n",
    "* Tensorflow : Google에서 개발한 오픈 소스 딥 러닝 라이브러리. <b>설치된 Python 버전과 호환되는 것으로 설치할것!</b>\n",
    "<br> 텐서플로우 설치 : https://www.tensorflow.org/install/pip\n",
    "<br> * CPU 버전을 설치할 것을 권장. \n",
    "\n",
    "### 1.2 케라스 설치\n",
    "위 라이브러리들을 설치한 후, 케라스를 설치합니다.\n",
    "* https://keras.io/#installation\n",
    "\n",
    "### 1.3 케라스 설치 확인\n",
    "케라스가 올바르게 설치되었는지 확인하기 위해, 케라스를 Import한 뒤 버전을 출력해봅니다.\n"
   ]
  },
  {
   "cell_type": "code",
   "execution_count": 1,
   "metadata": {
    "colab": {},
    "colab_type": "code",
    "id": "RdWzUjvZobV4",
    "outputId": "e8e9a35e-98d5-48e1-f9c1-978077d96b36"
   },
   "outputs": [
    {
     "data": {
      "text/plain": [
       "'2.4.0'"
      ]
     },
     "execution_count": 1,
     "metadata": {},
     "output_type": "execute_result"
    }
   ],
   "source": [
    "from tensorflow import keras\n",
    "\n",
    "keras.__version__"
   ]
  },
  {
   "cell_type": "markdown",
   "metadata": {
    "colab_type": "text",
    "id": "lWlwSKksobV_"
   },
   "source": [
    "위와 같이 케라스의 버전이 출력되면 정상입니다. (출력되는 버전은 위 예시와 다를 수도 있음)<br> 나중에 신경망을 만들기 위한 클래스들도 함께 Import 합시다."
   ]
  },
  {
   "cell_type": "code",
   "execution_count": 12,
   "metadata": {
    "colab": {},
    "colab_type": "code",
    "id": "ruFtS02AobWA"
   },
   "outputs": [],
   "source": [
    "import tensorflow as tf\n",
    "from tensorflow.keras import Sequential\n",
    "from tensorflow.keras.layers import Dense, Dropout, Activation, Flatten\n",
    "from tensorflow.keras import models\n",
    "from tensorflow.keras import layers\n",
    "from sklearn.model_selection import train_test_split\n",
    "import matplotlib.pyplot as plt\n",
    "from keras.optimizers import SGD\n",
    "from sklearn.preprocessing import LabelEncoder\n",
    "from keras.layers.normalization import BatchNormalization"
   ]
  },
  {
   "cell_type": "markdown",
   "metadata": {
    "colab_type": "text",
    "id": "ZggQC1JiobWC"
   },
   "source": [
    "---\n",
    "## 2. Data Set 설명\n",
    " 본 과제에서 사용할 데이터 셋은 UCI에서 제공되는 Wine Quality Data Set입니다. (https://archive.ics.uci.edu/ml/datasets/Wine+Quality) 데이터는 레드 와인 1599개, 화이트 와인 4898개의 화학적 특성을 포함하고 있습니다. 데이터는 두 개의 CSV(Comma-seperated values)형태로 제공되며, 구성은 다음과 같습니다.\n",
    "* 화이트 와인 / 레드 와인 CSV 파일\n",
    "* 11개의 실수(Real) 입력 변수 (X)\n",
    "    * fixed acidity\n",
    "    * volatile acidity\n",
    "    * citric acid\n",
    "    * residual sugar\n",
    "    * chlorides\n",
    "    * free sulfur dioxide\n",
    "    * total sulfur dioxide\n",
    "    * density\n",
    "    * pH\n",
    "    * sulphates\n",
    "    * alcohol\n",
    "* 1개의 클래스 레이블 (Y)\n",
    "   * quality (0~10, 0: Very poor, 10: Very excellent)\n",
    "* Missing Value 없음\n",
    "* 클래스들이 불균등하게 분포함.\n",
    "\n",
    "더 자세한 사항은 블랙보드에 함께 올라가있는 설명 파일을 참고하도록 합시다.\n",
    "\n",
    "### 2.1 데이터 로드\n",
    "데이터 분석에서 가장 많이 사용되는 라이브러리 중 하나인 Pandas와 Numpy를 Import하겠습니다. Pandas는 데이터 분석에 유용한 데이터 타입인 DataFrame을 제공하며, Numpy는 효율적이고 빠른 매트릭스 연산을 지원합니다."
   ]
  },
  {
   "cell_type": "code",
   "execution_count": 4,
   "metadata": {
    "colab": {},
    "colab_type": "code",
    "id": "j5kTZyX1obWD"
   },
   "outputs": [],
   "source": [
    "import pandas as pd\n",
    "pd.__version__\n",
    "pd.options.display.max_rows=15"
   ]
  },
  {
   "cell_type": "code",
   "execution_count": 5,
   "metadata": {
    "colab": {},
    "colab_type": "code",
    "id": "G0thM0X0obWG",
    "outputId": "424a3336-02e9-4d28-b9db-725719c2e71b"
   },
   "outputs": [
    {
     "data": {
      "text/plain": [
       "'1.19.5'"
      ]
     },
     "execution_count": 5,
     "metadata": {},
     "output_type": "execute_result"
    }
   ],
   "source": [
    "import numpy as np\n",
    "np.__version__"
   ]
  },
  {
   "cell_type": "markdown",
   "metadata": {
    "colab_type": "text",
    "id": "fHEmT15sobWJ"
   },
   "source": [
    "Pandas를 이용해서 CSV 파일을 읽어들이도록 합시다. white_wine 변수에는 화이트 와인 데이터를, red_wine 변수에는 레드 와인 데이터를 읽어들입니다."
   ]
  },
  {
   "cell_type": "code",
   "execution_count": 6,
   "metadata": {
    "colab": {},
    "colab_type": "code",
    "id": "t0s-aG2SobWJ"
   },
   "outputs": [],
   "source": [
    "import pandas as pd\n",
    "\n",
    "white_wine = pd.read_csv('winequality-white.csv', header='infer')\n",
    "red_wine = pd.read_csv('winequality-red.csv', header='infer')"
   ]
  },
  {
   "cell_type": "markdown",
   "metadata": {
    "colab_type": "text",
    "id": "E3zUEFZtobWM"
   },
   "source": [
    "### 2.2 데이터 전처리\n",
    "데이터를 읽어들인 뒤, 읽어들인 데이터프레임을 display 함수를 통해 확인합니다."
   ]
  },
  {
   "cell_type": "code",
   "execution_count": 7,
   "metadata": {
    "colab": {},
    "colab_type": "code",
    "id": "IR2Bk48fobWM",
    "outputId": "378265b5-1cf8-4927-d318-c196f9e658bd"
   },
   "outputs": [
    {
     "data": {
      "text/html": [
       "<div>\n",
       "<style scoped>\n",
       "    .dataframe tbody tr th:only-of-type {\n",
       "        vertical-align: middle;\n",
       "    }\n",
       "\n",
       "    .dataframe tbody tr th {\n",
       "        vertical-align: top;\n",
       "    }\n",
       "\n",
       "    .dataframe thead th {\n",
       "        text-align: right;\n",
       "    }\n",
       "</style>\n",
       "<table border=\"1\" class=\"dataframe\">\n",
       "  <thead>\n",
       "    <tr style=\"text-align: right;\">\n",
       "      <th></th>\n",
       "      <th>fixed acidity</th>\n",
       "      <th>volatile acidity</th>\n",
       "      <th>citric acid</th>\n",
       "      <th>residual sugar</th>\n",
       "      <th>chlorides</th>\n",
       "      <th>free sulfur dioxide</th>\n",
       "      <th>total sulfur dioxide</th>\n",
       "      <th>density</th>\n",
       "      <th>pH</th>\n",
       "      <th>sulphates</th>\n",
       "      <th>alcohol</th>\n",
       "      <th>quality</th>\n",
       "    </tr>\n",
       "  </thead>\n",
       "  <tbody>\n",
       "    <tr>\n",
       "      <th>0</th>\n",
       "      <td>7.0</td>\n",
       "      <td>0.27</td>\n",
       "      <td>0.36</td>\n",
       "      <td>20.7</td>\n",
       "      <td>0.045</td>\n",
       "      <td>45.0</td>\n",
       "      <td>170.0</td>\n",
       "      <td>1.00100</td>\n",
       "      <td>3.00</td>\n",
       "      <td>0.45</td>\n",
       "      <td>8.8</td>\n",
       "      <td>6</td>\n",
       "    </tr>\n",
       "    <tr>\n",
       "      <th>1</th>\n",
       "      <td>6.3</td>\n",
       "      <td>0.30</td>\n",
       "      <td>0.34</td>\n",
       "      <td>1.6</td>\n",
       "      <td>0.049</td>\n",
       "      <td>14.0</td>\n",
       "      <td>132.0</td>\n",
       "      <td>0.99400</td>\n",
       "      <td>3.30</td>\n",
       "      <td>0.49</td>\n",
       "      <td>9.5</td>\n",
       "      <td>6</td>\n",
       "    </tr>\n",
       "    <tr>\n",
       "      <th>2</th>\n",
       "      <td>8.1</td>\n",
       "      <td>0.28</td>\n",
       "      <td>0.40</td>\n",
       "      <td>6.9</td>\n",
       "      <td>0.050</td>\n",
       "      <td>30.0</td>\n",
       "      <td>97.0</td>\n",
       "      <td>0.99510</td>\n",
       "      <td>3.26</td>\n",
       "      <td>0.44</td>\n",
       "      <td>10.1</td>\n",
       "      <td>6</td>\n",
       "    </tr>\n",
       "    <tr>\n",
       "      <th>3</th>\n",
       "      <td>7.2</td>\n",
       "      <td>0.23</td>\n",
       "      <td>0.32</td>\n",
       "      <td>8.5</td>\n",
       "      <td>0.058</td>\n",
       "      <td>47.0</td>\n",
       "      <td>186.0</td>\n",
       "      <td>0.99560</td>\n",
       "      <td>3.19</td>\n",
       "      <td>0.40</td>\n",
       "      <td>9.9</td>\n",
       "      <td>6</td>\n",
       "    </tr>\n",
       "    <tr>\n",
       "      <th>4</th>\n",
       "      <td>7.2</td>\n",
       "      <td>0.23</td>\n",
       "      <td>0.32</td>\n",
       "      <td>8.5</td>\n",
       "      <td>0.058</td>\n",
       "      <td>47.0</td>\n",
       "      <td>186.0</td>\n",
       "      <td>0.99560</td>\n",
       "      <td>3.19</td>\n",
       "      <td>0.40</td>\n",
       "      <td>9.9</td>\n",
       "      <td>6</td>\n",
       "    </tr>\n",
       "    <tr>\n",
       "      <th>...</th>\n",
       "      <td>...</td>\n",
       "      <td>...</td>\n",
       "      <td>...</td>\n",
       "      <td>...</td>\n",
       "      <td>...</td>\n",
       "      <td>...</td>\n",
       "      <td>...</td>\n",
       "      <td>...</td>\n",
       "      <td>...</td>\n",
       "      <td>...</td>\n",
       "      <td>...</td>\n",
       "      <td>...</td>\n",
       "    </tr>\n",
       "    <tr>\n",
       "      <th>4893</th>\n",
       "      <td>6.2</td>\n",
       "      <td>0.21</td>\n",
       "      <td>0.29</td>\n",
       "      <td>1.6</td>\n",
       "      <td>0.039</td>\n",
       "      <td>24.0</td>\n",
       "      <td>92.0</td>\n",
       "      <td>0.99114</td>\n",
       "      <td>3.27</td>\n",
       "      <td>0.50</td>\n",
       "      <td>11.2</td>\n",
       "      <td>6</td>\n",
       "    </tr>\n",
       "    <tr>\n",
       "      <th>4894</th>\n",
       "      <td>6.6</td>\n",
       "      <td>0.32</td>\n",
       "      <td>0.36</td>\n",
       "      <td>8.0</td>\n",
       "      <td>0.047</td>\n",
       "      <td>57.0</td>\n",
       "      <td>168.0</td>\n",
       "      <td>0.99490</td>\n",
       "      <td>3.15</td>\n",
       "      <td>0.46</td>\n",
       "      <td>9.6</td>\n",
       "      <td>5</td>\n",
       "    </tr>\n",
       "    <tr>\n",
       "      <th>4895</th>\n",
       "      <td>6.5</td>\n",
       "      <td>0.24</td>\n",
       "      <td>0.19</td>\n",
       "      <td>1.2</td>\n",
       "      <td>0.041</td>\n",
       "      <td>30.0</td>\n",
       "      <td>111.0</td>\n",
       "      <td>0.99254</td>\n",
       "      <td>2.99</td>\n",
       "      <td>0.46</td>\n",
       "      <td>9.4</td>\n",
       "      <td>6</td>\n",
       "    </tr>\n",
       "    <tr>\n",
       "      <th>4896</th>\n",
       "      <td>5.5</td>\n",
       "      <td>0.29</td>\n",
       "      <td>0.30</td>\n",
       "      <td>1.1</td>\n",
       "      <td>0.022</td>\n",
       "      <td>20.0</td>\n",
       "      <td>110.0</td>\n",
       "      <td>0.98869</td>\n",
       "      <td>3.34</td>\n",
       "      <td>0.38</td>\n",
       "      <td>12.8</td>\n",
       "      <td>7</td>\n",
       "    </tr>\n",
       "    <tr>\n",
       "      <th>4897</th>\n",
       "      <td>6.0</td>\n",
       "      <td>0.21</td>\n",
       "      <td>0.38</td>\n",
       "      <td>0.8</td>\n",
       "      <td>0.020</td>\n",
       "      <td>22.0</td>\n",
       "      <td>98.0</td>\n",
       "      <td>0.98941</td>\n",
       "      <td>3.26</td>\n",
       "      <td>0.32</td>\n",
       "      <td>11.8</td>\n",
       "      <td>6</td>\n",
       "    </tr>\n",
       "  </tbody>\n",
       "</table>\n",
       "<p>4898 rows × 12 columns</p>\n",
       "</div>"
      ],
      "text/plain": [
       "      fixed acidity  volatile acidity  citric acid  residual sugar  chlorides  \\\n",
       "0               7.0              0.27         0.36            20.7      0.045   \n",
       "1               6.3              0.30         0.34             1.6      0.049   \n",
       "2               8.1              0.28         0.40             6.9      0.050   \n",
       "3               7.2              0.23         0.32             8.5      0.058   \n",
       "4               7.2              0.23         0.32             8.5      0.058   \n",
       "...             ...               ...          ...             ...        ...   \n",
       "4893            6.2              0.21         0.29             1.6      0.039   \n",
       "4894            6.6              0.32         0.36             8.0      0.047   \n",
       "4895            6.5              0.24         0.19             1.2      0.041   \n",
       "4896            5.5              0.29         0.30             1.1      0.022   \n",
       "4897            6.0              0.21         0.38             0.8      0.020   \n",
       "\n",
       "      free sulfur dioxide  total sulfur dioxide  density    pH  sulphates  \\\n",
       "0                    45.0                 170.0  1.00100  3.00       0.45   \n",
       "1                    14.0                 132.0  0.99400  3.30       0.49   \n",
       "2                    30.0                  97.0  0.99510  3.26       0.44   \n",
       "3                    47.0                 186.0  0.99560  3.19       0.40   \n",
       "4                    47.0                 186.0  0.99560  3.19       0.40   \n",
       "...                   ...                   ...      ...   ...        ...   \n",
       "4893                 24.0                  92.0  0.99114  3.27       0.50   \n",
       "4894                 57.0                 168.0  0.99490  3.15       0.46   \n",
       "4895                 30.0                 111.0  0.99254  2.99       0.46   \n",
       "4896                 20.0                 110.0  0.98869  3.34       0.38   \n",
       "4897                 22.0                  98.0  0.98941  3.26       0.32   \n",
       "\n",
       "      alcohol  quality  \n",
       "0         8.8        6  \n",
       "1         9.5        6  \n",
       "2        10.1        6  \n",
       "3         9.9        6  \n",
       "4         9.9        6  \n",
       "...       ...      ...  \n",
       "4893     11.2        6  \n",
       "4894      9.6        5  \n",
       "4895      9.4        6  \n",
       "4896     12.8        7  \n",
       "4897     11.8        6  \n",
       "\n",
       "[4898 rows x 12 columns]"
      ]
     },
     "metadata": {},
     "output_type": "display_data"
    }
   ],
   "source": [
    "display(white_wine)"
   ]
  },
  {
   "cell_type": "code",
   "execution_count": 8,
   "metadata": {
    "colab": {},
    "colab_type": "code",
    "id": "aoIonV7KobWP",
    "outputId": "4e225517-5e4c-4291-8371-da3ba36acc3f"
   },
   "outputs": [
    {
     "data": {
      "text/html": [
       "<div>\n",
       "<style scoped>\n",
       "    .dataframe tbody tr th:only-of-type {\n",
       "        vertical-align: middle;\n",
       "    }\n",
       "\n",
       "    .dataframe tbody tr th {\n",
       "        vertical-align: top;\n",
       "    }\n",
       "\n",
       "    .dataframe thead th {\n",
       "        text-align: right;\n",
       "    }\n",
       "</style>\n",
       "<table border=\"1\" class=\"dataframe\">\n",
       "  <thead>\n",
       "    <tr style=\"text-align: right;\">\n",
       "      <th></th>\n",
       "      <th>fixed acidity</th>\n",
       "      <th>volatile acidity</th>\n",
       "      <th>citric acid</th>\n",
       "      <th>residual sugar</th>\n",
       "      <th>chlorides</th>\n",
       "      <th>free sulfur dioxide</th>\n",
       "      <th>total sulfur dioxide</th>\n",
       "      <th>density</th>\n",
       "      <th>pH</th>\n",
       "      <th>sulphates</th>\n",
       "      <th>alcohol</th>\n",
       "      <th>quality</th>\n",
       "    </tr>\n",
       "  </thead>\n",
       "  <tbody>\n",
       "    <tr>\n",
       "      <th>0</th>\n",
       "      <td>7.4</td>\n",
       "      <td>0.700</td>\n",
       "      <td>0.00</td>\n",
       "      <td>1.9</td>\n",
       "      <td>0.076</td>\n",
       "      <td>11</td>\n",
       "      <td>34</td>\n",
       "      <td>0.99780</td>\n",
       "      <td>3.51</td>\n",
       "      <td>0.56</td>\n",
       "      <td>9.4</td>\n",
       "      <td>5</td>\n",
       "    </tr>\n",
       "    <tr>\n",
       "      <th>1</th>\n",
       "      <td>7.8</td>\n",
       "      <td>0.880</td>\n",
       "      <td>0.00</td>\n",
       "      <td>2.6</td>\n",
       "      <td>0.098</td>\n",
       "      <td>25</td>\n",
       "      <td>67</td>\n",
       "      <td>0.99680</td>\n",
       "      <td>3.20</td>\n",
       "      <td>0.68</td>\n",
       "      <td>9.8</td>\n",
       "      <td>5</td>\n",
       "    </tr>\n",
       "    <tr>\n",
       "      <th>2</th>\n",
       "      <td>7.8</td>\n",
       "      <td>0.760</td>\n",
       "      <td>0.04</td>\n",
       "      <td>2.3</td>\n",
       "      <td>0.092</td>\n",
       "      <td>15</td>\n",
       "      <td>54</td>\n",
       "      <td>0.99700</td>\n",
       "      <td>3.26</td>\n",
       "      <td>0.65</td>\n",
       "      <td>9.8</td>\n",
       "      <td>5</td>\n",
       "    </tr>\n",
       "    <tr>\n",
       "      <th>3</th>\n",
       "      <td>11.2</td>\n",
       "      <td>0.280</td>\n",
       "      <td>0.56</td>\n",
       "      <td>1.9</td>\n",
       "      <td>0.075</td>\n",
       "      <td>17</td>\n",
       "      <td>60</td>\n",
       "      <td>0.99800</td>\n",
       "      <td>3.16</td>\n",
       "      <td>0.58</td>\n",
       "      <td>9.8</td>\n",
       "      <td>6</td>\n",
       "    </tr>\n",
       "    <tr>\n",
       "      <th>4</th>\n",
       "      <td>7.4</td>\n",
       "      <td>0.700</td>\n",
       "      <td>0.00</td>\n",
       "      <td>1.9</td>\n",
       "      <td>0.076</td>\n",
       "      <td>11</td>\n",
       "      <td>34</td>\n",
       "      <td>0.99780</td>\n",
       "      <td>3.51</td>\n",
       "      <td>0.56</td>\n",
       "      <td>9.4</td>\n",
       "      <td>5</td>\n",
       "    </tr>\n",
       "    <tr>\n",
       "      <th>...</th>\n",
       "      <td>...</td>\n",
       "      <td>...</td>\n",
       "      <td>...</td>\n",
       "      <td>...</td>\n",
       "      <td>...</td>\n",
       "      <td>...</td>\n",
       "      <td>...</td>\n",
       "      <td>...</td>\n",
       "      <td>...</td>\n",
       "      <td>...</td>\n",
       "      <td>...</td>\n",
       "      <td>...</td>\n",
       "    </tr>\n",
       "    <tr>\n",
       "      <th>1594</th>\n",
       "      <td>6.2</td>\n",
       "      <td>0.600</td>\n",
       "      <td>0.08</td>\n",
       "      <td>2.0</td>\n",
       "      <td>0.090</td>\n",
       "      <td>32</td>\n",
       "      <td>44</td>\n",
       "      <td>0.99490</td>\n",
       "      <td>3.45</td>\n",
       "      <td>0.58</td>\n",
       "      <td>10.5</td>\n",
       "      <td>5</td>\n",
       "    </tr>\n",
       "    <tr>\n",
       "      <th>1595</th>\n",
       "      <td>5.9</td>\n",
       "      <td>0.550</td>\n",
       "      <td>0.10</td>\n",
       "      <td>2.2</td>\n",
       "      <td>0.062</td>\n",
       "      <td>39</td>\n",
       "      <td>51</td>\n",
       "      <td>0.99512</td>\n",
       "      <td>3.52</td>\n",
       "      <td>0.76</td>\n",
       "      <td>11.2</td>\n",
       "      <td>6</td>\n",
       "    </tr>\n",
       "    <tr>\n",
       "      <th>1596</th>\n",
       "      <td>6.3</td>\n",
       "      <td>0.510</td>\n",
       "      <td>0.13</td>\n",
       "      <td>2.3</td>\n",
       "      <td>0.076</td>\n",
       "      <td>29</td>\n",
       "      <td>40</td>\n",
       "      <td>0.99574</td>\n",
       "      <td>3.42</td>\n",
       "      <td>0.75</td>\n",
       "      <td>11.0</td>\n",
       "      <td>6</td>\n",
       "    </tr>\n",
       "    <tr>\n",
       "      <th>1597</th>\n",
       "      <td>5.9</td>\n",
       "      <td>0.645</td>\n",
       "      <td>0.12</td>\n",
       "      <td>2.0</td>\n",
       "      <td>0.075</td>\n",
       "      <td>32</td>\n",
       "      <td>44</td>\n",
       "      <td>0.99547</td>\n",
       "      <td>3.57</td>\n",
       "      <td>0.71</td>\n",
       "      <td>10.2</td>\n",
       "      <td>5</td>\n",
       "    </tr>\n",
       "    <tr>\n",
       "      <th>1598</th>\n",
       "      <td>6.0</td>\n",
       "      <td>0.310</td>\n",
       "      <td>0.47</td>\n",
       "      <td>3.6</td>\n",
       "      <td>0.067</td>\n",
       "      <td>18</td>\n",
       "      <td>42</td>\n",
       "      <td>0.99549</td>\n",
       "      <td>3.39</td>\n",
       "      <td>0.66</td>\n",
       "      <td>11.0</td>\n",
       "      <td>6</td>\n",
       "    </tr>\n",
       "  </tbody>\n",
       "</table>\n",
       "<p>1599 rows × 12 columns</p>\n",
       "</div>"
      ],
      "text/plain": [
       "      fixed acidity  volatile acidity  citric acid  residual sugar  chlorides  \\\n",
       "0               7.4             0.700         0.00             1.9      0.076   \n",
       "1               7.8             0.880         0.00             2.6      0.098   \n",
       "2               7.8             0.760         0.04             2.3      0.092   \n",
       "3              11.2             0.280         0.56             1.9      0.075   \n",
       "4               7.4             0.700         0.00             1.9      0.076   \n",
       "...             ...               ...          ...             ...        ...   \n",
       "1594            6.2             0.600         0.08             2.0      0.090   \n",
       "1595            5.9             0.550         0.10             2.2      0.062   \n",
       "1596            6.3             0.510         0.13             2.3      0.076   \n",
       "1597            5.9             0.645         0.12             2.0      0.075   \n",
       "1598            6.0             0.310         0.47             3.6      0.067   \n",
       "\n",
       "      free sulfur dioxide  total sulfur dioxide  density    pH  sulphates  \\\n",
       "0                      11                    34  0.99780  3.51       0.56   \n",
       "1                      25                    67  0.99680  3.20       0.68   \n",
       "2                      15                    54  0.99700  3.26       0.65   \n",
       "3                      17                    60  0.99800  3.16       0.58   \n",
       "4                      11                    34  0.99780  3.51       0.56   \n",
       "...                   ...                   ...      ...   ...        ...   \n",
       "1594                   32                    44  0.99490  3.45       0.58   \n",
       "1595                   39                    51  0.99512  3.52       0.76   \n",
       "1596                   29                    40  0.99574  3.42       0.75   \n",
       "1597                   32                    44  0.99547  3.57       0.71   \n",
       "1598                   18                    42  0.99549  3.39       0.66   \n",
       "\n",
       "      alcohol  quality  \n",
       "0         9.4        5  \n",
       "1         9.8        5  \n",
       "2         9.8        5  \n",
       "3         9.8        6  \n",
       "4         9.4        5  \n",
       "...       ...      ...  \n",
       "1594     10.5        5  \n",
       "1595     11.2        6  \n",
       "1596     11.0        6  \n",
       "1597     10.2        5  \n",
       "1598     11.0        6  \n",
       "\n",
       "[1599 rows x 12 columns]"
      ]
     },
     "metadata": {},
     "output_type": "display_data"
    }
   ],
   "source": [
    "display(red_wine)"
   ]
  },
  {
   "cell_type": "markdown",
   "metadata": {
    "colab_type": "text",
    "id": "YA0L1jCDobWS"
   },
   "source": [
    "이제 데이터프레임을 입력 변수와 정답 셋(클래스 레이블)으로 나누는 함수를 작성하겠습니다.<br>\n",
    "<b>generate_data</b>함수는 데이터프레임 객체와 테스트 셋 비율을 입력으로 받아, 네 개의 numpy array를 반환합니다. 트레이닝 셋과 테스트 셋의 비율은 training_set_ratio에 의해 결정됩니다.\n",
    "* Function : generate_data\n",
    " * 입력\n",
    "     * pd.DataFrame : df\n",
    "     * double : training_set_ratio  \n",
    " * 출력\n",
    "     * np.array : X_train\n",
    "     * np.array : Y_train\n",
    "     * np.array : X_test\n",
    "     * np.array : Y_test\n",
    "     \n"
   ]
  },
  {
   "cell_type": "code",
   "execution_count": 9,
   "metadata": {
    "colab": {},
    "colab_type": "code",
    "id": "sHHRgjpWobWT"
   },
   "outputs": [],
   "source": [
    "def generate_data(df, t_r):\n",
    "    X = df.iloc[:, :11]\n",
    "    Y = df.iloc[:, 11]\n",
    "    \n",
    "    X_train, X_test, Y_train, Y_test = train_test_split(X, Y, train_size=t_r, random_state=1)\n",
    "    \n",
    "    \n",
    "    return X_train.values, Y_train, X_test.values, Y_test"
   ]
  },
  {
   "cell_type": "code",
   "execution_count": 10,
   "metadata": {
    "colab": {},
    "colab_type": "code",
    "id": "A-kAXFUkobWV"
   },
   "outputs": [
    {
     "name": "stdout",
     "output_type": "stream",
     "text": [
      "--showing white and red wine shape--\n",
      "(4898, 12)\n",
      "(1599, 12)\n",
      "--showing x and y train shape--\n",
      "(3428, 11)\n",
      "(3428,)\n",
      "--showing x and y test shape--\n",
      "(1470, 11)\n",
      "(1470,)\n",
      "--showing x and y train--\n",
      "[[ 6.    0.23  0.34 ...  3.36  0.37 12.7 ]\n",
      " [ 8.8   0.19  0.3  ...  2.94  0.47 11.2 ]\n",
      " [ 6.7   0.23  0.33 ...  3.11  0.52 10.1 ]\n",
      " ...\n",
      " [ 8.4   0.19  0.42 ...  3.06  0.65 11.1 ]\n",
      " [ 6.1   0.22  0.25 ...  3.21  0.4  10.7 ]\n",
      " [ 7.2   0.23  0.38 ...  3.09  0.44  9.  ]]\n",
      "4554    6\n",
      "3401    5\n",
      "3330    6\n",
      "4462    6\n",
      "3171    6\n",
      "       ..\n",
      "2895    5\n",
      "2763    6\n",
      "905     4\n",
      "3980    5\n",
      "235     6\n",
      "Name: quality, Length: 3428, dtype: int64\n",
      "--showing x and y test--\n",
      "[[ 6.2    0.38   0.18  ...  3.53   0.71   9.2  ]\n",
      " [ 6.4    0.25   0.74  ...  3.21   0.42   9.2  ]\n",
      " [ 6.4    0.25   0.37  ...  3.18   0.4   11.1  ]\n",
      " ...\n",
      " [ 7.4    0.155  0.34  ...  3.18   0.61   9.9  ]\n",
      " [ 6.4    0.25   0.3   ...  3.14   0.49   9.6  ]\n",
      " [ 6.2    0.2    0.31  ...  3.24   0.52  11.3  ]]\n",
      "2414    4\n",
      "1584    6\n",
      "3248    7\n",
      "645     5\n",
      "3163    7\n",
      "       ..\n",
      "1523    6\n",
      "3634    7\n",
      "432     7\n",
      "739     6\n",
      "2908    6\n",
      "Name: quality, Length: 1470, dtype: int64\n"
     ]
    }
   ],
   "source": [
    "x_train, y_train, x_test, y_test = generate_data(white_wine, 0.7)\n",
    "print(\"--showing white and red wine shape--\")\n",
    "print(white_wine.shape)\n",
    "print(red_wine.shape)\n",
    "print(\"--showing x and y train shape--\")\n",
    "print(x_train.shape)\n",
    "print(y_train.shape)\n",
    "print(\"--showing x and y test shape--\")\n",
    "print(x_test.shape)\n",
    "print(y_test.shape)\n",
    "print(\"--showing x and y train--\")\n",
    "print(x_train)\n",
    "print(y_train)\n",
    "print(\"--showing x and y test--\")\n",
    "print(x_test)\n",
    "print(y_test)"
   ]
  },
  {
   "cell_type": "markdown",
   "metadata": {
    "colab_type": "text",
    "id": "ctr0KTQ7obWX"
   },
   "source": [
    "작성한 함수를 호출하여 화이트 와인 데이터에 대해 트레이닝 셋과 테스트 셋의 입력과 정답이 적절하게 생성되었는지 확인합니다.\n",
    "\n",
    "---"
   ]
  },
  {
   "cell_type": "markdown",
   "metadata": {
    "colab_type": "text",
    "id": "FWOKgPSaobWY"
   },
   "source": [
    "# 3. 케라스를 이용한 모델 생성, 학습, 테스트\n",
    "입력 데이터와 정답 셋이 만들어졌으니 케라스를 사용하여 각 데이터에 대한 분류기를 생성하고, 트레이닝 셋으로 학습시킨 뒤 테스트 정확도를 관찰합니다."
   ]
  },
  {
   "cell_type": "markdown",
   "metadata": {
    "colab_type": "text",
    "id": "FO4OxZuhobWZ"
   },
   "source": [
    "# 과제\n",
    "### 1. 화이트 와인 분류 모델과 레드 와인 분류 모델 설계 및 학습\n",
    "* 하나의 히든 레이어에 32개의 노드를 가진 인공신경망 모델 생성 및 모델 학습\n",
    "* 트레이닝 Epoch에 따라 Loss의 변화를 그래프로 시각화\n",
    "* 테스트 셋에 대한 정확도 기록"
   ]
  },
  {
   "cell_type": "code",
   "execution_count": 14,
   "metadata": {
    "colab": {},
    "colab_type": "code",
    "id": "gE8UhHrNobWZ",
    "scrolled": false
   },
   "outputs": [
    {
     "name": "stdout",
     "output_type": "stream",
     "text": [
      "Model: \"sequential_2\"\n",
      "_________________________________________________________________\n",
      "Layer (type)                 Output Shape              Param #   \n",
      "=================================================================\n",
      "layer1 (Dense)               (None, 32)                384       \n",
      "_________________________________________________________________\n",
      "dense_2 (Dense)              (None, 10)                330       \n",
      "=================================================================\n",
      "Total params: 714\n",
      "Trainable params: 714\n",
      "Non-trainable params: 0\n",
      "_________________________________________________________________\n",
      "Epoch 1/5\n",
      "108/108 [==============================] - 1s 3ms/step - loss: 12.4922 - accuracy: 0.1844 - val_loss: 2.5349 - val_accuracy: 0.3007\n",
      "Epoch 2/5\n",
      "108/108 [==============================] - 0s 2ms/step - loss: 2.5403 - accuracy: 0.3473 - val_loss: 1.4131 - val_accuracy: 0.4088\n",
      "Epoch 3/5\n",
      "108/108 [==============================] - 0s 2ms/step - loss: 1.3801 - accuracy: 0.4232 - val_loss: 1.2775 - val_accuracy: 0.4170\n",
      "Epoch 4/5\n",
      "108/108 [==============================] - 0s 2ms/step - loss: 1.3255 - accuracy: 0.4454 - val_loss: 1.3072 - val_accuracy: 0.4531\n",
      "Epoch 5/5\n",
      "108/108 [==============================] - 0s 2ms/step - loss: 1.2658 - accuracy: 0.4662 - val_loss: 1.3083 - val_accuracy: 0.3816\n"
     ]
    },
    {
     "data": {
      "image/png": "[encoded data removed]",
      "text/plain": [
       "<Figure size 432x288 with 1 Axes>"
      ]
     },
     "metadata": {
      "needs_background": "light"
     },
     "output_type": "display_data"
    },
    {
     "name": "stdout",
     "output_type": "stream",
     "text": [
      "46/46 - 0s - loss: 1.3083 - accuracy: 0.3816\n"
     ]
    },
    {
     "data": {
      "text/plain": [
       "[1.3082621097564697, 0.38163265585899353]"
      ]
     },
     "execution_count": 14,
     "metadata": {},
     "output_type": "execute_result"
    }
   ],
   "source": [
    "#white wine 기본\n",
    "\n",
    "white_model = tf.keras.models.Sequential()\n",
    "\n",
    "white_model.add(layers.Dense(32, activation='relu', input_shape=(11,), name=\"layer1\"))\n",
    "white_model.add(layers.Dense(10, activation='softmax')) \n",
    "\n",
    "white_model.compile(optimizer='adam', loss='sparse_categorical_crossentropy', metrics=['accuracy'])\n",
    "white_model.summary()\n",
    "\n",
    "\n",
    "white_past = white_model.fit(x_train, y_train, epochs=5, validation_data=(x_test, y_test))\n",
    "\n",
    "past_history = white_past.history\n",
    "loss = past_history['loss']\n",
    "valid_loss = past_history['val_loss']\n",
    "\n",
    "epochs = range(1, len(loss) + 1)\n",
    "\n",
    "plt.plot(epochs, loss, 'ro-')\n",
    "plt.plot(epochs, valid_loss, 'bo--')\n",
    "plt.title('Training and Validation Loss')\n",
    "plt.xlabel('Epochs')\n",
    "plt.ylabel('Loss')\n",
    "plt.legend(['Training Loss', 'Validation Loss'])\n",
    "\n",
    "plt.show()\n",
    "\n",
    "white_model.evaluate(x_test, y_test, verbose=2)"
   ]
  },
  {
   "cell_type": "code",
   "execution_count": 16,
   "metadata": {
    "scrolled": false
   },
   "outputs": [
    {
     "name": "stdout",
     "output_type": "stream",
     "text": [
      "Model: \"sequential_4\"\n",
      "_________________________________________________________________\n",
      "Layer (type)                 Output Shape              Param #   \n",
      "=================================================================\n",
      "layer1 (Dense)               (None, 32)                384       \n",
      "_________________________________________________________________\n",
      "dense_4 (Dense)              (None, 10)                330       \n",
      "=================================================================\n",
      "Total params: 714\n",
      "Trainable params: 714\n",
      "Non-trainable params: 0\n",
      "_________________________________________________________________\n",
      "Epoch 1/5\n",
      "35/35 [==============================] - 1s 7ms/step - loss: 16.1570 - accuracy: 0.0012 - val_loss: 4.8295 - val_accuracy: 0.2083\n",
      "Epoch 2/5\n",
      "35/35 [==============================] - 0s 3ms/step - loss: 3.1755 - accuracy: 0.3205 - val_loss: 1.7350 - val_accuracy: 0.4375\n",
      "Epoch 3/5\n",
      "35/35 [==============================] - 0s 3ms/step - loss: 1.8112 - accuracy: 0.4518 - val_loss: 1.5156 - val_accuracy: 0.4812\n",
      "Epoch 4/5\n",
      "35/35 [==============================] - 0s 3ms/step - loss: 1.4703 - accuracy: 0.4795 - val_loss: 1.4151 - val_accuracy: 0.4604\n",
      "Epoch 5/5\n",
      "35/35 [==============================] - 0s 3ms/step - loss: 1.2650 - accuracy: 0.4911 - val_loss: 1.3324 - val_accuracy: 0.4521\n"
     ]
    },
    {
     "data": {
      "image/png": "[encoded data removed]",
      "text/plain": [
       "<Figure size 432x288 with 1 Axes>"
      ]
     },
     "metadata": {
      "needs_background": "light"
     },
     "output_type": "display_data"
    },
    {
     "name": "stdout",
     "output_type": "stream",
     "text": [
      "15/15 - 0s - loss: 1.3324 - accuracy: 0.4521\n"
     ]
    },
    {
     "data": {
      "text/plain": [
       "[1.3323639631271362, 0.4520833194255829]"
      ]
     },
     "execution_count": 16,
     "metadata": {},
     "output_type": "execute_result"
    }
   ],
   "source": [
    "# red_wine 기본\n",
    "\n",
    "x_train, y_train, x_test, y_test = generate_data(red_wine, 0.7)\n",
    "\n",
    "red_model = tf.keras.models.Sequential()\n",
    "\n",
    "red_model.add(layers.Dense(32, activation='relu', input_shape=(11,), name=\"layer1\"))\n",
    "red_model.add(layers.Dense(10, activation='softmax')) \n",
    "\n",
    "red_model.compile(optimizer='adam', loss='sparse_categorical_crossentropy', metrics=['accuracy'])\n",
    "red_model.summary()\n",
    "\n",
    "\n",
    "red_past = red_model.fit(x_train, y_train, epochs=5, validation_data=(x_test, y_test))\n",
    "\n",
    "past_history = red_past.history\n",
    "loss = past_history['loss']\n",
    "valid_loss = past_history['val_loss']\n",
    "\n",
    "epochs = range(1, len(loss) + 1)\n",
    "\n",
    "plt.plot(epochs, loss, 'ro-')\n",
    "plt.plot(epochs, valid_loss, 'bo--')\n",
    "plt.title('Training and Validation Loss')\n",
    "plt.xlabel('Epochs')\n",
    "plt.ylabel('Loss')\n",
    "plt.legend(['Training Loss', 'Validation Loss'])\n",
    "\n",
    "plt.show()\n",
    "\n",
    "red_model.evaluate(x_test, y_test, verbose=2)"
   ]
  },
  {
   "cell_type": "markdown",
   "metadata": {
    "colab_type": "text",
    "id": "5aI6JweqobWc"
   },
   "source": [
    "### 2. 각 모델의 성능을 향상시킬 수 있는 방법 적용\n",
    "* 하이퍼파라미터를 변경하여 테스트 셋에서의 정확도를 향상시킬 것\n",
    "    * 예) 레이어 수, 노드 수, Learning rate 등\n",
    "* 하이퍼파라미터를 변화시킨 각각의 모델에 대해, 트레이닝 Epoch 당 Loss의 변화를 기록하고 이를 시각화\n",
    "* 그 외 성능을 향상시킬 수 있는 모든 방법을 사용하여 가장 성능이 좋은 모델을 선택\n",
    "    * 예) Dropout, Normalization 등"
   ]
  },
  {
   "cell_type": "code",
   "execution_count": 17,
   "metadata": {},
   "outputs": [
    {
     "name": "stdout",
     "output_type": "stream",
     "text": [
      "Model: \"sequential_5\"\n",
      "_________________________________________________________________\n",
      "Layer (type)                 Output Shape              Param #   \n",
      "=================================================================\n",
      "layer1 (Dense)               (None, 32)                384       \n",
      "_________________________________________________________________\n",
      "layer2 (Dense)               (None, 32)                1056      \n",
      "_________________________________________________________________\n",
      "dense_5 (Dense)              (None, 10)                330       \n",
      "=================================================================\n",
      "Total params: 1,770\n",
      "Trainable params: 1,770\n",
      "Non-trainable params: 0\n",
      "_________________________________________________________________\n",
      "Epoch 1/5\n",
      "108/108 [==============================] - 1s 6ms/step - loss: 4.2569 - accuracy: 0.2709 - val_loss: 1.2808 - val_accuracy: 0.4435\n",
      "Epoch 2/5\n",
      "108/108 [==============================] - 0s 2ms/step - loss: 1.3367 - accuracy: 0.4452 - val_loss: 1.2263 - val_accuracy: 0.4673\n",
      "Epoch 3/5\n",
      "108/108 [==============================] - 0s 2ms/step - loss: 1.2747 - accuracy: 0.4695 - val_loss: 1.2204 - val_accuracy: 0.4571\n",
      "Epoch 4/5\n",
      "108/108 [==============================] - 0s 2ms/step - loss: 1.2487 - accuracy: 0.4765 - val_loss: 1.2026 - val_accuracy: 0.4633\n",
      "Epoch 5/5\n",
      "108/108 [==============================] - 0s 2ms/step - loss: 1.2411 - accuracy: 0.4552 - val_loss: 1.2175 - val_accuracy: 0.4694\n"
     ]
    },
    {
     "data": {
      "image/png": "[encoded data removed]",
      "text/plain": [
       "<Figure size 432x288 with 1 Axes>"
      ]
     },
     "metadata": {
      "needs_background": "light"
     },
     "output_type": "display_data"
    },
    {
     "name": "stdout",
     "output_type": "stream",
     "text": [
      "46/46 - 0s - loss: 1.2175 - accuracy: 0.4694\n"
     ]
    },
    {
     "data": {
      "text/plain": [
       "[1.217482328414917, 0.4693877696990967]"
      ]
     },
     "execution_count": 17,
     "metadata": {},
     "output_type": "execute_result"
    }
   ],
   "source": [
    "# Hidden Layer 개수 바꾸기\n",
    "\n",
    "x_train, y_train, x_test, y_test = generate_data(white_wine, 0.7)\n",
    "\n",
    "white_model = tf.keras.models.Sequential()\n",
    "\n",
    "white_model.add(layers.Dense(32, activation='relu', name=\"layer1\", input_shape=(11,)))\n",
    "white_model.add(layers.Dense(32, activation='relu', name=\"layer2\"))\n",
    "white_model.add(layers.Dense(10, activation='softmax')) \n",
    "\n",
    "white_model.compile(optimizer='adam', loss='sparse_categorical_crossentropy', metrics=['accuracy'])\n",
    "white_model.summary()\n",
    "\n",
    "\n",
    "white_past = white_model.fit(x_train, y_train, epochs=5, validation_data=(x_test, y_test))\n",
    "\n",
    "past_history = white_past.history\n",
    "loss = past_history['loss']\n",
    "valid_loss = past_history['val_loss']\n",
    "\n",
    "epochs = range(1, len(loss) + 1)\n",
    "\n",
    "plt.plot(epochs, loss, 'ro-')\n",
    "plt.plot(epochs, valid_loss, 'bo--')\n",
    "plt.title('Training and Validation Loss')\n",
    "plt.xlabel('Epochs')\n",
    "plt.ylabel('Loss')\n",
    "plt.legend(['Training Loss', 'Validation Loss'])\n",
    "\n",
    "plt.show()\n",
    "white_model.evaluate(x_test, y_test, verbose=2)"
   ]
  },
  {
   "cell_type": "code",
   "execution_count": 18,
   "metadata": {},
   "outputs": [
    {
     "name": "stdout",
     "output_type": "stream",
     "text": [
      "Model: \"sequential_6\"\n",
      "_________________________________________________________________\n",
      "Layer (type)                 Output Shape              Param #   \n",
      "=================================================================\n",
      "layer1 (Dense)               (None, 32)                384       \n",
      "_________________________________________________________________\n",
      "layer2 (Dense)               (None, 32)                1056      \n",
      "_________________________________________________________________\n",
      "layer3 (Dense)               (None, 32)                1056      \n",
      "_________________________________________________________________\n",
      "layer4 (Dense)               (None, 32)                1056      \n",
      "_________________________________________________________________\n",
      "layer5 (Dense)               (None, 32)                1056      \n",
      "_________________________________________________________________\n",
      "dense_6 (Dense)              (None, 10)                330       \n",
      "=================================================================\n",
      "Total params: 4,938\n",
      "Trainable params: 4,938\n",
      "Non-trainable params: 0\n",
      "_________________________________________________________________\n",
      "Epoch 1/5\n",
      "108/108 [==============================] - 1s 5ms/step - loss: 1.6356 - accuracy: 0.3783 - val_loss: 1.2707 - val_accuracy: 0.4483\n",
      "Epoch 2/5\n",
      "108/108 [==============================] - 0s 2ms/step - loss: 1.3113 - accuracy: 0.4485 - val_loss: 1.2631 - val_accuracy: 0.4510\n",
      "Epoch 3/5\n",
      "108/108 [==============================] - 0s 2ms/step - loss: 1.2678 - accuracy: 0.4637 - val_loss: 1.2387 - val_accuracy: 0.4667\n",
      "Epoch 4/5\n",
      "108/108 [==============================] - 0s 2ms/step - loss: 1.2876 - accuracy: 0.4583 - val_loss: 1.2214 - val_accuracy: 0.4721\n",
      "Epoch 5/5\n",
      "108/108 [==============================] - 0s 2ms/step - loss: 1.2763 - accuracy: 0.4560 - val_loss: 1.2200 - val_accuracy: 0.4714\n"
     ]
    },
    {
     "data": {
      "image/png": "[encoded data removed]",
      "text/plain": [
       "<Figure size 432x288 with 1 Axes>"
      ]
     },
     "metadata": {
      "needs_background": "light"
     },
     "output_type": "display_data"
    },
    {
     "name": "stdout",
     "output_type": "stream",
     "text": [
      "46/46 - 0s - loss: 1.2200 - accuracy: 0.4714\n"
     ]
    },
    {
     "data": {
      "text/plain": [
       "[1.219967246055603, 0.4714285731315613]"
      ]
     },
     "execution_count": 18,
     "metadata": {},
     "output_type": "execute_result"
    }
   ],
   "source": [
    "# Hidden Layer 개수 바꾸기 2\n",
    "x_train, y_train, x_test, y_test = generate_data(white_wine, 0.7)\n",
    "\n",
    "white_model = tf.keras.models.Sequential()\n",
    "\n",
    "white_model.add(layers.Dense(32, activation='relu', name=\"layer1\", input_shape=(11,)))\n",
    "white_model.add(layers.Dense(32, activation='relu', name=\"layer2\"))\n",
    "white_model.add(layers.Dense(32, activation='relu', name=\"layer3\"))\n",
    "white_model.add(layers.Dense(32, activation='relu', name=\"layer4\"))\n",
    "white_model.add(layers.Dense(32, activation='relu', name=\"layer5\"))\n",
    "white_model.add(layers.Dense(10, activation='softmax' )) \n",
    "\n",
    "white_model.compile(optimizer='adam', loss='sparse_categorical_crossentropy', metrics=['accuracy'])\n",
    "white_model.summary()\n",
    "\n",
    "\n",
    "white_past = white_model.fit(x_train, y_train, epochs=5, validation_data=(x_test, y_test))\n",
    "\n",
    "past_history = white_past.history\n",
    "loss = past_history['loss']\n",
    "valid_loss = past_history['val_loss']\n",
    "\n",
    "epochs = range(1, len(loss) + 1)\n",
    "\n",
    "plt.plot(epochs, loss, 'ro-')\n",
    "plt.plot(epochs, valid_loss, 'bo--')\n",
    "plt.title('Training and Validation Loss')\n",
    "plt.xlabel('Epochs')\n",
    "plt.ylabel('Loss')\n",
    "plt.legend(['Training Loss', 'Validation Loss'])\n",
    "\n",
    "plt.show()\n",
    "white_model.evaluate(x_test, y_test, verbose=2)"
   ]
  },
  {
   "cell_type": "code",
   "execution_count": 19,
   "metadata": {},
   "outputs": [
    {
     "name": "stdout",
     "output_type": "stream",
     "text": [
      "Model: \"sequential_7\"\n",
      "_________________________________________________________________\n",
      "Layer (type)                 Output Shape              Param #   \n",
      "=================================================================\n",
      "layer1 (Dense)               (None, 64)                768       \n",
      "_________________________________________________________________\n",
      "dense_7 (Dense)              (None, 10)                650       \n",
      "=================================================================\n",
      "Total params: 1,418\n",
      "Trainable params: 1,418\n",
      "Non-trainable params: 0\n",
      "_________________________________________________________________\n",
      "Epoch 1/5\n",
      "108/108 [==============================] - 1s 4ms/step - loss: 14.6531 - accuracy: 0.2724 - val_loss: 1.5804 - val_accuracy: 0.3578\n",
      "Epoch 2/5\n",
      "108/108 [==============================] - 0s 2ms/step - loss: 1.5465 - accuracy: 0.3916 - val_loss: 1.6077 - val_accuracy: 0.4109\n",
      "Epoch 3/5\n",
      "108/108 [==============================] - 0s 2ms/step - loss: 1.4802 - accuracy: 0.3964 - val_loss: 1.2848 - val_accuracy: 0.4211\n",
      "Epoch 4/5\n",
      "108/108 [==============================] - 0s 2ms/step - loss: 1.3579 - accuracy: 0.4394 - val_loss: 1.2251 - val_accuracy: 0.4558\n",
      "Epoch 5/5\n",
      "108/108 [==============================] - 0s 2ms/step - loss: 1.3132 - accuracy: 0.4401 - val_loss: 1.2383 - val_accuracy: 0.4551\n"
     ]
    },
    {
     "data": {
      "image/png": "[encoded data removed]",
      "text/plain": [
       "<Figure size 432x288 with 1 Axes>"
      ]
     },
     "metadata": {
      "needs_background": "light"
     },
     "output_type": "display_data"
    },
    {
     "name": "stdout",
     "output_type": "stream",
     "text": [
      "46/46 - 0s - loss: 1.2383 - accuracy: 0.4551\n"
     ]
    },
    {
     "data": {
      "text/plain": [
       "[1.238250494003296, 0.45510202646255493]"
      ]
     },
     "execution_count": 19,
     "metadata": {},
     "output_type": "execute_result"
    }
   ],
   "source": [
    "#node 갯수 변경\n",
    "\n",
    "white_model = tf.keras.models.Sequential()\n",
    "\n",
    "white_model.add(layers.Dense(64, activation='relu', input_shape=(11,), name=\"layer1\"))\n",
    "white_model.add(layers.Dense(10, activation='softmax')) \n",
    "\n",
    "white_model.compile(optimizer='adam', loss='sparse_categorical_crossentropy', metrics=['accuracy'])\n",
    "white_model.summary()\n",
    "\n",
    "\n",
    "white_past = white_model.fit(x_train, y_train, epochs=5, validation_data=(x_test, y_test))\n",
    "\n",
    "past_history = white_past.history\n",
    "loss = past_history['loss']\n",
    "valid_loss = past_history['val_loss']\n",
    "\n",
    "epochs = range(1, len(loss) + 1)\n",
    "\n",
    "plt.plot(epochs, loss, 'ro-')\n",
    "plt.plot(epochs, valid_loss, 'bo--')\n",
    "plt.title('Training and Validation Loss')\n",
    "plt.xlabel('Epochs')\n",
    "plt.ylabel('Loss')\n",
    "plt.legend(['Training Loss', 'Validation Loss'])\n",
    "\n",
    "plt.show()\n",
    "\n",
    "white_model.evaluate(x_test, y_test, verbose=2)"
   ]
  },
  {
   "cell_type": "code",
   "execution_count": 20,
   "metadata": {},
   "outputs": [
    {
     "name": "stdout",
     "output_type": "stream",
     "text": [
      "Model: \"sequential_8\"\n",
      "_________________________________________________________________\n",
      "Layer (type)                 Output Shape              Param #   \n",
      "=================================================================\n",
      "layer1 (Dense)               (None, 32)                384       \n",
      "_________________________________________________________________\n",
      "dense_8 (Dense)              (None, 10)                330       \n",
      "=================================================================\n",
      "Total params: 714\n",
      "Trainable params: 714\n",
      "Non-trainable params: 0\n",
      "_________________________________________________________________\n",
      "Epoch 1/5\n",
      "108/108 [==============================] - 1s 3ms/step - loss: 2.2645 - accuracy: 0.2906 - val_loss: 1.4672 - val_accuracy: 0.2980\n",
      "Epoch 2/5\n",
      "108/108 [==============================] - 0s 2ms/step - loss: 1.4189 - accuracy: 0.3749 - val_loss: 1.2914 - val_accuracy: 0.4456\n",
      "Epoch 3/5\n",
      "108/108 [==============================] - 0s 2ms/step - loss: 1.3093 - accuracy: 0.4471 - val_loss: 1.2690 - val_accuracy: 0.4456\n",
      "Epoch 4/5\n",
      "108/108 [==============================] - 0s 2ms/step - loss: 1.3143 - accuracy: 0.4418 - val_loss: 1.2489 - val_accuracy: 0.4517\n",
      "Epoch 5/5\n",
      "108/108 [==============================] - 0s 2ms/step - loss: 1.2697 - accuracy: 0.4659 - val_loss: 1.2371 - val_accuracy: 0.4537\n"
     ]
    },
    {
     "data": {
      "image/png": "[encoded data removed]",
      "text/plain": [
       "<Figure size 432x288 with 1 Axes>"
      ]
     },
     "metadata": {
      "needs_background": "light"
     },
     "output_type": "display_data"
    },
    {
     "name": "stdout",
     "output_type": "stream",
     "text": [
      "46/46 - 0s - loss: 1.2371 - accuracy: 0.4537\n"
     ]
    },
    {
     "data": {
      "text/plain": [
       "[1.2371424436569214, 0.45374149084091187]"
      ]
     },
     "execution_count": 20,
     "metadata": {},
     "output_type": "execute_result"
    }
   ],
   "source": [
    "# activation 변경\n",
    "\n",
    "x_train, y_train, x_test, y_test = generate_data(white_wine, 0.7)\n",
    "\n",
    "white_model = tf.keras.models.Sequential()\n",
    "\n",
    "white_model.add(layers.Dense(32, activation='sigmoid', name=\"layer1\", input_shape=(11,)))\n",
    "white_model.add(layers.Dense(10, activation='softmax')) \n",
    "\n",
    "\n",
    "white_model.compile(optimizer='adam', loss='sparse_categorical_crossentropy', metrics=['accuracy'])\n",
    "white_model.summary()\n",
    "\n",
    "\n",
    "white_past = white_model.fit(x_train, y_train, epochs=5, validation_data=(x_test, y_test))\n",
    "\n",
    "past_history = white_past.history\n",
    "loss = past_history['loss']\n",
    "valid_loss = past_history['val_loss']\n",
    "\n",
    "epochs = range(1, len(loss) + 1)\n",
    "\n",
    "plt.plot(epochs, loss, 'ro-')\n",
    "plt.plot(epochs, valid_loss, 'bo--')\n",
    "plt.title('Training and Validation Loss')\n",
    "plt.xlabel('Epochs')\n",
    "plt.ylabel('Loss')\n",
    "plt.legend(['Training Loss', 'Validation Loss'])\n",
    "\n",
    "plt.show()\n",
    "white_model.evaluate(x_test, y_test, verbose=2)"
   ]
  },
  {
   "cell_type": "code",
   "execution_count": 21,
   "metadata": {},
   "outputs": [
    {
     "name": "stdout",
     "output_type": "stream",
     "text": [
      "Model: \"sequential_9\"\n",
      "_________________________________________________________________\n",
      "Layer (type)                 Output Shape              Param #   \n",
      "=================================================================\n",
      "layer1 (Dense)               (None, 32)                384       \n",
      "_________________________________________________________________\n",
      "batch_normalization (BatchNo (None, 32)                128       \n",
      "_________________________________________________________________\n",
      "dense_9 (Dense)              (None, 10)                330       \n",
      "=================================================================\n",
      "Total params: 842\n",
      "Trainable params: 778\n",
      "Non-trainable params: 64\n",
      "_________________________________________________________________\n",
      "Epoch 1/5\n",
      "108/108 [==============================] - 1s 4ms/step - loss: 2.2811 - accuracy: 0.1917 - val_loss: 1.4959 - val_accuracy: 0.3415\n",
      "Epoch 2/5\n",
      "108/108 [==============================] - 0s 2ms/step - loss: 1.5291 - accuracy: 0.4428 - val_loss: 1.2963 - val_accuracy: 0.4408\n",
      "Epoch 3/5\n",
      "108/108 [==============================] - 0s 3ms/step - loss: 1.3095 - accuracy: 0.4572 - val_loss: 1.2585 - val_accuracy: 0.4605\n",
      "Epoch 4/5\n",
      "108/108 [==============================] - 0s 2ms/step - loss: 1.2651 - accuracy: 0.4612 - val_loss: 1.2265 - val_accuracy: 0.4565\n",
      "Epoch 5/5\n",
      "108/108 [==============================] - 0s 2ms/step - loss: 1.2467 - accuracy: 0.4563 - val_loss: 1.2100 - val_accuracy: 0.4844\n"
     ]
    },
    {
     "data": {
      "image/png": "[encoded data removed]",
      "text/plain": [
       "<Figure size 432x288 with 1 Axes>"
      ]
     },
     "metadata": {
      "needs_background": "light"
     },
     "output_type": "display_data"
    },
    {
     "name": "stdout",
     "output_type": "stream",
     "text": [
      "46/46 - 0s - loss: 1.2100 - accuracy: 0.4844\n"
     ]
    },
    {
     "data": {
      "text/plain": [
       "[1.2099863290786743, 0.4843537509441376]"
      ]
     },
     "execution_count": 21,
     "metadata": {},
     "output_type": "execute_result"
    }
   ],
   "source": [
    "# BatchNormalization 사용\n",
    "\n",
    "white_model = tf.keras.models.Sequential()\n",
    "\n",
    "white_model.add(layers.Dense(32, activation='relu', input_shape=(11,), name=\"layer1\"))\n",
    "white_model.add(BatchNormalization())\n",
    "white_model.add(layers.Dense(10, activation='softmax')) \n",
    "\n",
    "white_model.compile(optimizer='adam', loss='sparse_categorical_crossentropy', metrics=['accuracy'])\n",
    "white_model.summary()\n",
    "\n",
    "\n",
    "white_past = white_model.fit(x_train, y_train, epochs=5, validation_data=(x_test, y_test))\n",
    "\n",
    "past_history = white_past.history\n",
    "loss = past_history['loss']\n",
    "valid_loss = past_history['val_loss']\n",
    "\n",
    "epochs = range(1, len(loss) + 1)\n",
    "\n",
    "plt.plot(epochs, loss, 'ro-')\n",
    "plt.plot(epochs, valid_loss, 'bo--')\n",
    "plt.title('Training and Validation Loss')\n",
    "plt.xlabel('Epochs')\n",
    "plt.ylabel('Loss')\n",
    "plt.legend(['Training Loss', 'Validation Loss'])\n",
    "\n",
    "plt.show()\n",
    "\n",
    "white_model.evaluate(x_test, y_test, verbose=2)"
   ]
  },
  {
   "cell_type": "code",
   "execution_count": 22,
   "metadata": {},
   "outputs": [
    {
     "name": "stdout",
     "output_type": "stream",
     "text": [
      "Model: \"sequential_10\"\n",
      "_________________________________________________________________\n",
      "Layer (type)                 Output Shape              Param #   \n",
      "=================================================================\n",
      "layer1 (Dense)               (None, 32)                384       \n",
      "_________________________________________________________________\n",
      "dropout (Dropout)            (None, 32)                0         \n",
      "_________________________________________________________________\n",
      "flatten (Flatten)            (None, 32)                0         \n",
      "_________________________________________________________________\n",
      "dense_10 (Dense)             (None, 10)                330       \n",
      "=================================================================\n",
      "Total params: 714\n",
      "Trainable params: 714\n",
      "Non-trainable params: 0\n",
      "_________________________________________________________________\n",
      "Epoch 1/5\n",
      "108/108 [==============================] - 1s 4ms/step - loss: 21.2771 - accuracy: 0.2679 - val_loss: 4.7848 - val_accuracy: 0.4456\n",
      "Epoch 2/5\n",
      "108/108 [==============================] - 0s 2ms/step - loss: 9.3418 - accuracy: 0.3471 - val_loss: 2.3490 - val_accuracy: 0.3980\n",
      "Epoch 3/5\n",
      "108/108 [==============================] - 0s 2ms/step - loss: 6.5335 - accuracy: 0.3315 - val_loss: 2.2606 - val_accuracy: 0.4449\n",
      "Epoch 4/5\n",
      "108/108 [==============================] - 0s 2ms/step - loss: 3.8613 - accuracy: 0.3512 - val_loss: 1.5235 - val_accuracy: 0.4075\n",
      "Epoch 5/5\n",
      "108/108 [==============================] - 0s 2ms/step - loss: 2.5418 - accuracy: 0.3619 - val_loss: 1.3572 - val_accuracy: 0.4551\n"
     ]
    },
    {
     "data": {
      "image/png": "[encoded data removed]",
      "text/plain": [
       "<Figure size 432x288 with 1 Axes>"
      ]
     },
     "metadata": {
      "needs_background": "light"
     },
     "output_type": "display_data"
    },
    {
     "name": "stdout",
     "output_type": "stream",
     "text": [
      "46/46 - 0s - loss: 1.3572 - accuracy: 0.4551\n"
     ]
    },
    {
     "data": {
      "text/plain": [
       "[1.3571624755859375, 0.45510202646255493]"
      ]
     },
     "execution_count": 22,
     "metadata": {},
     "output_type": "execute_result"
    }
   ],
   "source": [
    "# Dropout 사용\n",
    "\n",
    "x_train, y_train, x_test, y_test = generate_data(white_wine, 0.7)\n",
    "\n",
    "white_model = tf.keras.models.Sequential()\n",
    "\n",
    "white_model.add(layers.Dense(32, activation='relu', name=\"layer1\", input_shape=(11,)))\n",
    "white_model.add(layers.Dropout(0.2))\n",
    "white_model.add(layers.Flatten())\n",
    "white_model.add(layers.Dense(10, activation='softmax')) \n",
    "\n",
    "white_model.compile(optimizer='adam', loss='sparse_categorical_crossentropy', metrics=['accuracy'])\n",
    "white_model.summary()\n",
    "\n",
    "\n",
    "white_past = white_model.fit(x_train, y_train, epochs=5, validation_data=(x_test, y_test))\n",
    "\n",
    "past_history = white_past.history\n",
    "loss = past_history['loss']\n",
    "valid_loss = past_history['val_loss']\n",
    "\n",
    "epochs = range(1, len(loss) + 1)\n",
    "\n",
    "plt.plot(epochs, loss, 'ro-')\n",
    "plt.plot(epochs, valid_loss, 'bo--')\n",
    "plt.title('Training and Validation Loss')\n",
    "plt.xlabel('Epochs')\n",
    "plt.ylabel('Loss')\n",
    "plt.legend(['Training Loss', 'Validation Loss'])\n",
    "\n",
    "plt.show()\n",
    "white_model.evaluate(x_test, y_test, verbose=2)"
   ]
  },
  {
   "cell_type": "code",
   "execution_count": 48,
   "metadata": {},
   "outputs": [
    {
     "name": "stdout",
     "output_type": "stream",
     "text": [
      "Model: \"sequential_34\"\n",
      "_________________________________________________________________\n",
      "Layer (type)                 Output Shape              Param #   \n",
      "=================================================================\n",
      "layer1 (Dense)               (None, 64)                768       \n",
      "_________________________________________________________________\n",
      "batch_normalization_20 (Batc (None, 64)                256       \n",
      "_________________________________________________________________\n",
      "layer2 (Dense)               (None, 64)                4160      \n",
      "_________________________________________________________________\n",
      "layer3 (Dense)               (None, 64)                4160      \n",
      "_________________________________________________________________\n",
      "layer4 (Dense)               (None, 64)                4160      \n",
      "_________________________________________________________________\n",
      "layer5 (Dense)               (None, 64)                4160      \n",
      "_________________________________________________________________\n",
      "dropout_19 (Dropout)         (None, 64)                0         \n",
      "_________________________________________________________________\n",
      "flatten_19 (Flatten)         (None, 64)                0         \n",
      "_________________________________________________________________\n",
      "dense_34 (Dense)             (None, 10)                650       \n",
      "=================================================================\n",
      "Total params: 18,314\n",
      "Trainable params: 18,186\n",
      "Non-trainable params: 128\n",
      "_________________________________________________________________\n",
      "Epoch 1/5\n",
      "143/143 [==============================] - 2s 4ms/step - loss: 1.5830 - accuracy: 0.3904 - val_loss: 1.2658 - val_accuracy: 0.3974\n",
      "Epoch 2/5\n",
      "143/143 [==============================] - 0s 3ms/step - loss: 1.2055 - accuracy: 0.4828 - val_loss: 1.1799 - val_accuracy: 0.4626\n",
      "Epoch 3/5\n",
      "143/143 [==============================] - 0s 2ms/step - loss: 1.1590 - accuracy: 0.4887 - val_loss: 1.1531 - val_accuracy: 0.4923\n",
      "Epoch 4/5\n",
      "143/143 [==============================] - 0s 2ms/step - loss: 1.1132 - accuracy: 0.5102 - val_loss: 1.1459 - val_accuracy: 0.4703\n",
      "Epoch 5/5\n",
      "143/143 [==============================] - 0s 3ms/step - loss: 1.1196 - accuracy: 0.5072 - val_loss: 1.0988 - val_accuracy: 0.5179\n"
     ]
    },
    {
     "data": {
      "image/png": "[encoded data removed]",
      "text/plain": [
       "<Figure size 432x288 with 1 Axes>"
      ]
     },
     "metadata": {
      "needs_background": "light"
     },
     "output_type": "display_data"
    },
    {
     "name": "stdout",
     "output_type": "stream",
     "text": [
      "61/61 - 0s - loss: 1.0988 - accuracy: 0.5179\n"
     ]
    },
    {
     "data": {
      "text/plain": [
       "[1.0987906455993652, 0.5179487466812134]"
      ]
     },
     "execution_count": 48,
     "metadata": {},
     "output_type": "execute_result"
    }
   ],
   "source": [
    "# 최종 개선 white_wine 모델\n",
    "\n",
    "white_model = tf.keras.models.Sequential()\n",
    "\n",
    "white_model.add(layers.Dense(64, activation='sigmoid', input_shape=(11,), name=\"layer1\"))\n",
    "white_model.add(BatchNormalization())\n",
    "white_model.add(layers.Dense(64, activation='relu', input_shape=(11,), name=\"layer2\"))\n",
    "#white_model.add(BatchNormalization())\n",
    "white_model.add(layers.Dense(64, activation='relu', input_shape=(11,), name=\"layer3\"))\n",
    "white_model.add(layers.Dense(64, activation='relu', input_shape=(11,), name=\"layer4\"))\n",
    "white_model.add(layers.Dense(64, activation='relu', input_shape=(11,), name=\"layer5\"))\n",
    "#white_model.add(BatchNormalization())\n",
    "white_model.add(layers.Dropout(0.2))\n",
    "white_model.add(layers.Flatten())\n",
    "#white_model.add(BatchNormalization())\n",
    "\n",
    "white_model.add(layers.Dense(10, activation='softmax')) \n",
    "\n",
    "\n",
    "\n",
    "white_model.compile(optimizer='adam', loss='sparse_categorical_crossentropy', metrics=['accuracy'])\n",
    "white_model.summary()\n",
    "\n",
    "\n",
    "white_past = white_model.fit(x_train, y_train, epochs=5, validation_data=(x_test, y_test))\n",
    "\n",
    "past_history = white_past.history\n",
    "loss = past_history['loss']\n",
    "valid_loss = past_history['val_loss']\n",
    "\n",
    "epochs = range(1, len(loss) + 1)\n",
    "\n",
    "plt.plot(epochs, loss, 'ro-')\n",
    "plt.plot(epochs, valid_loss, 'bo--')\n",
    "plt.title('Training and Validation Loss')\n",
    "plt.xlabel('Epochs')\n",
    "plt.ylabel('Loss')\n",
    "plt.legend(['Training Loss', 'Validation Loss'])\n",
    "\n",
    "plt.show()\n",
    "\n",
    "white_model.evaluate(x_test, y_test, verbose=2)"
   ]
  },
  {
   "cell_type": "code",
   "execution_count": 23,
   "metadata": {},
   "outputs": [
    {
     "name": "stdout",
     "output_type": "stream",
     "text": [
      "Model: \"sequential_11\"\n",
      "_________________________________________________________________\n",
      "Layer (type)                 Output Shape              Param #   \n",
      "=================================================================\n",
      "layer1 (Dense)               (None, 64)                768       \n",
      "_________________________________________________________________\n",
      "batch_normalization_1 (Batch (None, 64)                256       \n",
      "_________________________________________________________________\n",
      "layer2 (Dense)               (None, 64)                4160      \n",
      "_________________________________________________________________\n",
      "layer3 (Dense)               (None, 64)                4160      \n",
      "_________________________________________________________________\n",
      "layer4 (Dense)               (None, 64)                4160      \n",
      "_________________________________________________________________\n",
      "layer5 (Dense)               (None, 64)                4160      \n",
      "_________________________________________________________________\n",
      "dropout_1 (Dropout)          (None, 64)                0         \n",
      "_________________________________________________________________\n",
      "flatten_1 (Flatten)          (None, 64)                0         \n",
      "_________________________________________________________________\n",
      "dense_11 (Dense)             (None, 10)                650       \n",
      "=================================================================\n",
      "Total params: 18,314\n",
      "Trainable params: 18,186\n",
      "Non-trainable params: 128\n",
      "_________________________________________________________________\n",
      "Epoch 1/5\n",
      "35/35 [==============================] - 1s 15ms/step - loss: 1.8652 - accuracy: 0.3624 - val_loss: 1.2483 - val_accuracy: 0.4062\n",
      "Epoch 2/5\n",
      "35/35 [==============================] - 0s 4ms/step - loss: 1.2333 - accuracy: 0.4851 - val_loss: 1.2222 - val_accuracy: 0.4062\n",
      "Epoch 3/5\n",
      "35/35 [==============================] - 0s 4ms/step - loss: 1.1696 - accuracy: 0.4866 - val_loss: 1.2984 - val_accuracy: 0.4062\n",
      "Epoch 4/5\n",
      "35/35 [==============================] - 0s 3ms/step - loss: 1.0831 - accuracy: 0.5284 - val_loss: 1.3530 - val_accuracy: 0.3750\n",
      "Epoch 5/5\n",
      "35/35 [==============================] - ETA: 0s - loss: 1.0294 - accuracy: 0.55 - 0s 4ms/step - loss: 1.0336 - accuracy: 0.5511 - val_loss: 1.1990 - val_accuracy: 0.5167\n"
     ]
    },
    {
     "data": {
      "image/png": "[encoded data removed]",
      "text/plain": [
       "<Figure size 432x288 with 1 Axes>"
      ]
     },
     "metadata": {
      "needs_background": "light"
     },
     "output_type": "display_data"
    },
    {
     "name": "stdout",
     "output_type": "stream",
     "text": [
      "15/15 - 0s - loss: 1.1990 - accuracy: 0.5167\n"
     ]
    },
    {
     "data": {
      "text/plain": [
       "[1.198962926864624, 0.5166666507720947]"
      ]
     },
     "execution_count": 23,
     "metadata": {},
     "output_type": "execute_result"
    }
   ],
   "source": [
    "# 최종 개선 red_wine 모델\n",
    "\n",
    "x_train, y_train, x_test, y_test = generate_data(red_wine, 0.7)\n",
    "\n",
    "red_model = tf.keras.models.Sequential()\n",
    "\n",
    "red_model.add(layers.Dense(64, activation='sigmoid', input_shape=(11,), name=\"layer1\"))\n",
    "red_model.add(BatchNormalization())\n",
    "red_model.add(layers.Dense(64, activation='relu', input_shape=(11,), name=\"layer2\"))\n",
    "#red_model.add(BatchNormalization())\n",
    "red_model.add(layers.Dense(64, activation='relu', input_shape=(11,), name=\"layer3\"))\n",
    "red_model.add(layers.Dense(64, activation='relu', input_shape=(11,), name=\"layer4\"))\n",
    "red_model.add(layers.Dense(64, activation='relu', input_shape=(11,), name=\"layer5\"))\n",
    "#red_model.add(BatchNormalization())\n",
    "red_model.add(layers.Dropout(0.2))\n",
    "red_model.add(layers.Flatten())\n",
    "#red_model.add(BatchNormalization())\n",
    "\n",
    "red_model.add(layers.Dense(10, activation='softmax')) \n",
    "\n",
    "\n",
    "\n",
    "red_model.compile(optimizer='adam', loss='sparse_categorical_crossentropy', metrics=['accuracy'])\n",
    "red_model.summary()\n",
    "\n",
    "\n",
    "red_past = red_model.fit(x_train, y_train, epochs=5, validation_data=(x_test, y_test))\n",
    "\n",
    "past_history = red_past.history\n",
    "loss = past_history['loss']\n",
    "valid_loss = past_history['val_loss']\n",
    "\n",
    "epochs = range(1, len(loss) + 1)\n",
    "\n",
    "plt.plot(epochs, loss, 'ro-')\n",
    "plt.plot(epochs, valid_loss, 'bo--')\n",
    "plt.title('Training and Validation Loss')\n",
    "plt.xlabel('Epochs')\n",
    "plt.ylabel('Loss')\n",
    "plt.legend(['Training Loss', 'Validation Loss'])\n",
    "\n",
    "plt.show()\n",
    "\n",
    "red_model.evaluate(x_test, y_test, verbose=2)"
   ]
  },
  {
   "cell_type": "markdown",
   "metadata": {
    "colab_type": "text",
    "id": "KJ_KUtH2obWf"
   },
   "source": [
    "### 3. 화이트 와인과 레드 와인을 하나의 모델만 사용하여 분류\n",
    "* 화이트 와인과 레드 와인 데이터를 합쳐 wine 데이터 셋 생성\n",
    "* 입력이 화이트 와인인지 레드 와인인지에 관계없이 와인 품질을 분류하는 모델 생성\n",
    "* 모델의 성능을 향상시킬 수 있는 방법을 찾아 적용할 것\n"
   ]
  },
  {
   "cell_type": "code",
   "execution_count": 27,
   "metadata": {
    "colab": {},
    "colab_type": "code",
    "id": "VWzy7FV8obWg"
   },
   "outputs": [],
   "source": [
    "wine = red_wine.append(white_wine)"
   ]
  },
  {
   "cell_type": "code",
   "execution_count": 28,
   "metadata": {
    "scrolled": true
   },
   "outputs": [
    {
     "data": {
      "text/html": [
       "<div>\n",
       "<style scoped>\n",
       "    .dataframe tbody tr th:only-of-type {\n",
       "        vertical-align: middle;\n",
       "    }\n",
       "\n",
       "    .dataframe tbody tr th {\n",
       "        vertical-align: top;\n",
       "    }\n",
       "\n",
       "    .dataframe thead th {\n",
       "        text-align: right;\n",
       "    }\n",
       "</style>\n",
       "<table border=\"1\" class=\"dataframe\">\n",
       "  <thead>\n",
       "    <tr style=\"text-align: right;\">\n",
       "      <th></th>\n",
       "      <th>fixed acidity</th>\n",
       "      <th>volatile acidity</th>\n",
       "      <th>citric acid</th>\n",
       "      <th>residual sugar</th>\n",
       "      <th>chlorides</th>\n",
       "      <th>free sulfur dioxide</th>\n",
       "      <th>total sulfur dioxide</th>\n",
       "      <th>density</th>\n",
       "      <th>pH</th>\n",
       "      <th>sulphates</th>\n",
       "      <th>alcohol</th>\n",
       "      <th>quality</th>\n",
       "    </tr>\n",
       "  </thead>\n",
       "  <tbody>\n",
       "    <tr>\n",
       "      <th>0</th>\n",
       "      <td>7.4</td>\n",
       "      <td>0.70</td>\n",
       "      <td>0.00</td>\n",
       "      <td>1.9</td>\n",
       "      <td>0.076</td>\n",
       "      <td>11.0</td>\n",
       "      <td>34.0</td>\n",
       "      <td>0.99780</td>\n",
       "      <td>3.51</td>\n",
       "      <td>0.56</td>\n",
       "      <td>9.4</td>\n",
       "      <td>5</td>\n",
       "    </tr>\n",
       "    <tr>\n",
       "      <th>1</th>\n",
       "      <td>7.8</td>\n",
       "      <td>0.88</td>\n",
       "      <td>0.00</td>\n",
       "      <td>2.6</td>\n",
       "      <td>0.098</td>\n",
       "      <td>25.0</td>\n",
       "      <td>67.0</td>\n",
       "      <td>0.99680</td>\n",
       "      <td>3.20</td>\n",
       "      <td>0.68</td>\n",
       "      <td>9.8</td>\n",
       "      <td>5</td>\n",
       "    </tr>\n",
       "    <tr>\n",
       "      <th>2</th>\n",
       "      <td>7.8</td>\n",
       "      <td>0.76</td>\n",
       "      <td>0.04</td>\n",
       "      <td>2.3</td>\n",
       "      <td>0.092</td>\n",
       "      <td>15.0</td>\n",
       "      <td>54.0</td>\n",
       "      <td>0.99700</td>\n",
       "      <td>3.26</td>\n",
       "      <td>0.65</td>\n",
       "      <td>9.8</td>\n",
       "      <td>5</td>\n",
       "    </tr>\n",
       "    <tr>\n",
       "      <th>3</th>\n",
       "      <td>11.2</td>\n",
       "      <td>0.28</td>\n",
       "      <td>0.56</td>\n",
       "      <td>1.9</td>\n",
       "      <td>0.075</td>\n",
       "      <td>17.0</td>\n",
       "      <td>60.0</td>\n",
       "      <td>0.99800</td>\n",
       "      <td>3.16</td>\n",
       "      <td>0.58</td>\n",
       "      <td>9.8</td>\n",
       "      <td>6</td>\n",
       "    </tr>\n",
       "    <tr>\n",
       "      <th>4</th>\n",
       "      <td>7.4</td>\n",
       "      <td>0.70</td>\n",
       "      <td>0.00</td>\n",
       "      <td>1.9</td>\n",
       "      <td>0.076</td>\n",
       "      <td>11.0</td>\n",
       "      <td>34.0</td>\n",
       "      <td>0.99780</td>\n",
       "      <td>3.51</td>\n",
       "      <td>0.56</td>\n",
       "      <td>9.4</td>\n",
       "      <td>5</td>\n",
       "    </tr>\n",
       "    <tr>\n",
       "      <th>...</th>\n",
       "      <td>...</td>\n",
       "      <td>...</td>\n",
       "      <td>...</td>\n",
       "      <td>...</td>\n",
       "      <td>...</td>\n",
       "      <td>...</td>\n",
       "      <td>...</td>\n",
       "      <td>...</td>\n",
       "      <td>...</td>\n",
       "      <td>...</td>\n",
       "      <td>...</td>\n",
       "      <td>...</td>\n",
       "    </tr>\n",
       "    <tr>\n",
       "      <th>4893</th>\n",
       "      <td>6.2</td>\n",
       "      <td>0.21</td>\n",
       "      <td>0.29</td>\n",
       "      <td>1.6</td>\n",
       "      <td>0.039</td>\n",
       "      <td>24.0</td>\n",
       "      <td>92.0</td>\n",
       "      <td>0.99114</td>\n",
       "      <td>3.27</td>\n",
       "      <td>0.50</td>\n",
       "      <td>11.2</td>\n",
       "      <td>6</td>\n",
       "    </tr>\n",
       "    <tr>\n",
       "      <th>4894</th>\n",
       "      <td>6.6</td>\n",
       "      <td>0.32</td>\n",
       "      <td>0.36</td>\n",
       "      <td>8.0</td>\n",
       "      <td>0.047</td>\n",
       "      <td>57.0</td>\n",
       "      <td>168.0</td>\n",
       "      <td>0.99490</td>\n",
       "      <td>3.15</td>\n",
       "      <td>0.46</td>\n",
       "      <td>9.6</td>\n",
       "      <td>5</td>\n",
       "    </tr>\n",
       "    <tr>\n",
       "      <th>4895</th>\n",
       "      <td>6.5</td>\n",
       "      <td>0.24</td>\n",
       "      <td>0.19</td>\n",
       "      <td>1.2</td>\n",
       "      <td>0.041</td>\n",
       "      <td>30.0</td>\n",
       "      <td>111.0</td>\n",
       "      <td>0.99254</td>\n",
       "      <td>2.99</td>\n",
       "      <td>0.46</td>\n",
       "      <td>9.4</td>\n",
       "      <td>6</td>\n",
       "    </tr>\n",
       "    <tr>\n",
       "      <th>4896</th>\n",
       "      <td>5.5</td>\n",
       "      <td>0.29</td>\n",
       "      <td>0.30</td>\n",
       "      <td>1.1</td>\n",
       "      <td>0.022</td>\n",
       "      <td>20.0</td>\n",
       "      <td>110.0</td>\n",
       "      <td>0.98869</td>\n",
       "      <td>3.34</td>\n",
       "      <td>0.38</td>\n",
       "      <td>12.8</td>\n",
       "      <td>7</td>\n",
       "    </tr>\n",
       "    <tr>\n",
       "      <th>4897</th>\n",
       "      <td>6.0</td>\n",
       "      <td>0.21</td>\n",
       "      <td>0.38</td>\n",
       "      <td>0.8</td>\n",
       "      <td>0.020</td>\n",
       "      <td>22.0</td>\n",
       "      <td>98.0</td>\n",
       "      <td>0.98941</td>\n",
       "      <td>3.26</td>\n",
       "      <td>0.32</td>\n",
       "      <td>11.8</td>\n",
       "      <td>6</td>\n",
       "    </tr>\n",
       "  </tbody>\n",
       "</table>\n",
       "<p>6497 rows × 12 columns</p>\n",
       "</div>"
      ],
      "text/plain": [
       "      fixed acidity  volatile acidity  citric acid  residual sugar  chlorides  \\\n",
       "0               7.4              0.70         0.00             1.9      0.076   \n",
       "1               7.8              0.88         0.00             2.6      0.098   \n",
       "2               7.8              0.76         0.04             2.3      0.092   \n",
       "3              11.2              0.28         0.56             1.9      0.075   \n",
       "4               7.4              0.70         0.00             1.9      0.076   \n",
       "...             ...               ...          ...             ...        ...   \n",
       "4893            6.2              0.21         0.29             1.6      0.039   \n",
       "4894            6.6              0.32         0.36             8.0      0.047   \n",
       "4895            6.5              0.24         0.19             1.2      0.041   \n",
       "4896            5.5              0.29         0.30             1.1      0.022   \n",
       "4897            6.0              0.21         0.38             0.8      0.020   \n",
       "\n",
       "      free sulfur dioxide  total sulfur dioxide  density    pH  sulphates  \\\n",
       "0                    11.0                  34.0  0.99780  3.51       0.56   \n",
       "1                    25.0                  67.0  0.99680  3.20       0.68   \n",
       "2                    15.0                  54.0  0.99700  3.26       0.65   \n",
       "3                    17.0                  60.0  0.99800  3.16       0.58   \n",
       "4                    11.0                  34.0  0.99780  3.51       0.56   \n",
       "...                   ...                   ...      ...   ...        ...   \n",
       "4893                 24.0                  92.0  0.99114  3.27       0.50   \n",
       "4894                 57.0                 168.0  0.99490  3.15       0.46   \n",
       "4895                 30.0                 111.0  0.99254  2.99       0.46   \n",
       "4896                 20.0                 110.0  0.98869  3.34       0.38   \n",
       "4897                 22.0                  98.0  0.98941  3.26       0.32   \n",
       "\n",
       "      alcohol  quality  \n",
       "0         9.4        5  \n",
       "1         9.8        5  \n",
       "2         9.8        5  \n",
       "3         9.8        6  \n",
       "4         9.4        5  \n",
       "...       ...      ...  \n",
       "4893     11.2        6  \n",
       "4894      9.6        5  \n",
       "4895      9.4        6  \n",
       "4896     12.8        7  \n",
       "4897     11.8        6  \n",
       "\n",
       "[6497 rows x 12 columns]"
      ]
     },
     "metadata": {},
     "output_type": "display_data"
    }
   ],
   "source": [
    "display(wine)"
   ]
  },
  {
   "cell_type": "code",
   "execution_count": 63,
   "metadata": {},
   "outputs": [
    {
     "name": "stdout",
     "output_type": "stream",
     "text": [
      "Model: \"sequential_49\"\n",
      "_________________________________________________________________\n",
      "Layer (type)                 Output Shape              Param #   \n",
      "=================================================================\n",
      "layer1 (Dense)               (None, 32)                384       \n",
      "_________________________________________________________________\n",
      "dense_49 (Dense)             (None, 10)                330       \n",
      "=================================================================\n",
      "Total params: 714\n",
      "Trainable params: 714\n",
      "Non-trainable params: 0\n",
      "_________________________________________________________________\n",
      "Epoch 1/5\n",
      "143/143 [==============================] - 1s 3ms/step - loss: 10.8615 - accuracy: 0.2529 - val_loss: 1.6232 - val_accuracy: 0.3544\n",
      "Epoch 2/5\n",
      "143/143 [==============================] - 0s 1ms/step - loss: 1.5170 - accuracy: 0.3904 - val_loss: 1.3471 - val_accuracy: 0.3759\n",
      "Epoch 3/5\n",
      "143/143 [==============================] - 0s 2ms/step - loss: 1.3484 - accuracy: 0.4091 - val_loss: 1.2898 - val_accuracy: 0.4395\n",
      "Epoch 4/5\n",
      "143/143 [==============================] - 0s 2ms/step - loss: 1.3191 - accuracy: 0.4137 - val_loss: 1.2650 - val_accuracy: 0.4405\n",
      "Epoch 5/5\n",
      "143/143 [==============================] - 0s 2ms/step - loss: 1.2654 - accuracy: 0.4436 - val_loss: 1.2599 - val_accuracy: 0.4169\n"
     ]
    },
    {
     "data": {
      "image/png": "[encoded data removed]",
      "text/plain": [
       "<Figure size 432x288 with 1 Axes>"
      ]
     },
     "metadata": {
      "needs_background": "light"
     },
     "output_type": "display_data"
    },
    {
     "name": "stdout",
     "output_type": "stream",
     "text": [
      "61/61 - 0s - loss: 1.2599 - accuracy: 0.4169\n"
     ]
    },
    {
     "data": {
      "text/plain": [
       "[1.259926438331604, 0.41692307591438293]"
      ]
     },
     "execution_count": 63,
     "metadata": {},
     "output_type": "execute_result"
    }
   ],
   "source": [
    "# 기본 wine\n",
    "\n",
    "wine_model = tf.keras.models.Sequential()\n",
    "\n",
    "wine_model.add(layers.Dense(32, activation='relu', input_shape=(11,), name=\"layer1\"))\n",
    "wine_model.add(layers.Dense(10, activation='softmax')) \n",
    "\n",
    "wine_model.compile(optimizer='adam', loss='sparse_categorical_crossentropy', metrics=['accuracy'])\n",
    "wine_model.summary()\n",
    "\n",
    "\n",
    "wine_past = wine_model.fit(x_train, y_train, epochs=5, validation_data=(x_test, y_test))\n",
    "\n",
    "past_history = wine_past.history\n",
    "loss = past_history['loss']\n",
    "valid_loss = past_history['val_loss']\n",
    "\n",
    "epochs = range(1, len(loss) + 1)\n",
    "\n",
    "plt.plot(epochs, loss, 'ro-')\n",
    "plt.plot(epochs, valid_loss, 'bo--')\n",
    "plt.title('Training and Validation Loss')\n",
    "plt.xlabel('Epochs')\n",
    "plt.ylabel('Loss')\n",
    "plt.legend(['Training Loss', 'Validation Loss'])\n",
    "\n",
    "plt.show()\n",
    "\n",
    "wine_model.evaluate(x_test, y_test, verbose=2)"
   ]
  },
  {
   "cell_type": "code",
   "execution_count": 70,
   "metadata": {},
   "outputs": [
    {
     "name": "stdout",
     "output_type": "stream",
     "text": [
      "Model: \"sequential_56\"\n",
      "_________________________________________________________________\n",
      "Layer (type)                 Output Shape              Param #   \n",
      "=================================================================\n",
      "layer1 (Dense)               (None, 64)                768       \n",
      "_________________________________________________________________\n",
      "layer2 (Dense)               (None, 64)                4160      \n",
      "_________________________________________________________________\n",
      "layer3 (Dense)               (None, 64)                4160      \n",
      "_________________________________________________________________\n",
      "layer4 (Dense)               (None, 64)                4160      \n",
      "_________________________________________________________________\n",
      "layer5 (Dense)               (None, 64)                4160      \n",
      "_________________________________________________________________\n",
      "dropout_30 (Dropout)         (None, 64)                0         \n",
      "_________________________________________________________________\n",
      "flatten_30 (Flatten)         (None, 64)                0         \n",
      "_________________________________________________________________\n",
      "dense_56 (Dense)             (None, 10)                650       \n",
      "=================================================================\n",
      "Total params: 18,058\n",
      "Trainable params: 18,058\n",
      "Non-trainable params: 0\n",
      "_________________________________________________________________\n",
      "Epoch 1/5\n",
      "143/143 [==============================] - 1s 5ms/step - loss: 1.5954 - accuracy: 0.3687 - val_loss: 1.2738 - val_accuracy: 0.4379\n",
      "Epoch 2/5\n",
      "143/143 [==============================] - 0s 2ms/step - loss: 1.3288 - accuracy: 0.4097 - val_loss: 1.2501 - val_accuracy: 0.4441\n",
      "Epoch 3/5\n",
      "143/143 [==============================] - 0s 2ms/step - loss: 1.2737 - accuracy: 0.4332 - val_loss: 1.1961 - val_accuracy: 0.4569\n",
      "Epoch 4/5\n",
      "143/143 [==============================] - 0s 2ms/step - loss: 1.2103 - accuracy: 0.4650 - val_loss: 1.1591 - val_accuracy: 0.5015\n",
      "Epoch 5/5\n",
      "143/143 [==============================] - 0s 2ms/step - loss: 1.1852 - accuracy: 0.4854 - val_loss: 1.1150 - val_accuracy: 0.5005\n"
     ]
    },
    {
     "data": {
      "image/png": "[encoded data removed]",
      "text/plain": [
       "<Figure size 432x288 with 1 Axes>"
      ]
     },
     "metadata": {
      "needs_background": "light"
     },
     "output_type": "display_data"
    },
    {
     "name": "stdout",
     "output_type": "stream",
     "text": [
      "61/61 - 0s - loss: 1.1150 - accuracy: 0.5005\n"
     ]
    },
    {
     "data": {
      "text/plain": [
       "[1.1149663925170898, 0.5005128383636475]"
      ]
     },
     "execution_count": 70,
     "metadata": {},
     "output_type": "execute_result"
    }
   ],
   "source": [
    "#모델 성능 향상 후 wine\n",
    "\n",
    "x_train, y_train, x_test, y_test = generate_data(wine, 0.7)\n",
    "\n",
    "wine_model = tf.keras.models.Sequential()\n",
    "\n",
    "wine_model.add(layers.Dense(64, activation='sigmoid', input_shape=(11,), name=\"layer1\"))\n",
    "white_model.add(BatchNormalization())\n",
    "wine_model.add(layers.Dense(64, activation='relu', input_shape=(11,), name=\"layer2\"))\n",
    "wine_model.add(layers.Dense(64, activation='relu', input_shape=(11,), name=\"layer3\"))\n",
    "wine_model.add(layers.Dense(64, activation='relu', input_shape=(11,), name=\"layer4\"))\n",
    "wine_model.add(layers.Dense(64, activation='relu', input_shape=(11,), name=\"layer5\"))\n",
    "wine_model.add(layers.Dropout(0.2))\n",
    "wine_model.add(layers.Flatten())\n",
    "wine_model.add(layers.Dense(10, activation='softmax')) \n",
    "\n",
    "\n",
    "\n",
    "wine_model.compile(optimizer='adam', loss='sparse_categorical_crossentropy', metrics=['accuracy'])\n",
    "wine_model.summary()\n",
    "\n",
    "\n",
    "wine_past = wine_model.fit(x_train, y_train, epochs=5, validation_data=(x_test, y_test))\n",
    "\n",
    "past_history = wine_past.history\n",
    "loss = past_history['loss']\n",
    "valid_loss = past_history['val_loss']\n",
    "\n",
    "epochs = range(1, len(loss) + 1)\n",
    "\n",
    "plt.plot(epochs, loss, 'ro-')\n",
    "plt.plot(epochs, valid_loss, 'bo--')\n",
    "plt.title('Training and Validation Loss')\n",
    "plt.xlabel('Epochs')\n",
    "plt.ylabel('Loss')\n",
    "plt.legend(['Training Loss', 'Validation Loss'])\n",
    "\n",
    "plt.show()\n",
    "\n",
    "wine_model.evaluate(x_test, y_test, verbose=2)"
   ]
  },
  {
   "cell_type": "code",
   "execution_count": null,
   "metadata": {},
   "outputs": [],
   "source": []
  }
 ],
 "metadata": {
  "colab": {
   "collapsed_sections": [],
   "name": "WindClassifier.ipynb",
   "provenance": []
  },
  "kernelspec": {
   "display_name": "Python 3",
   "language": "python",
   "name": "python3"
  },
  "language_info": {
   "codemirror_mode": {
    "name": "ipython",
    "version": 3
   },
   "file_extension": ".py",
   "mimetype": "text/x-python",
   "name": "python",
   "nbconvert_exporter": "python",
   "pygments_lexer": "ipython3",
   "version": "3.8.8"
  }
 },
 "nbformat": 4,
 "nbformat_minor": 1
}
